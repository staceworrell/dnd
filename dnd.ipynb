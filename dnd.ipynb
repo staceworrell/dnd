{
 "cells": [
  {
   "cell_type": "markdown",
   "metadata": {},
   "source": [
    "## DnD Great Weapon Master Comparison\n",
    "\n",
    "#### Helper Functions"
   ]
  },
  {
   "cell_type": "code",
   "execution_count": null,
   "metadata": {},
   "outputs": [],
   "source": [
    "# Function definitions\n",
    "\n",
    "import random as rand\n",
    "import pandas as pd\n",
    "\n",
    "ROLLS_TO_MAKE = 1_000_000\n",
    "\n",
    "def roll(die=20):\n",
    "    result = rand.randrange(1,die + 1)\n",
    "    return result\n",
    "\n",
    "def to_hit(dc=10, d20s=1):\n",
    "    hit = False\n",
    "    crit = False\n",
    "    rolls = []\n",
    "    for i in range(d20s):\n",
    "        res = roll(20)\n",
    "        rolls.append(res)\n",
    "        if res == 20:\n",
    "            hit = True\n",
    "            crit = True\n",
    "        elif res >= dc:\n",
    "            hit = True\n",
    "       \n",
    "    return(hit, crit, rolls)\n",
    "\n",
    "def damage(crit=False, sides=8, mod=4, dice=1):\n",
    "    res = 0\n",
    "    if crit:\n",
    "        dice = dice * 2\n",
    "    for i in range(dice):\n",
    "        res += roll(sides)\n",
    "    res += mod\n",
    "    return res\n",
    "\n",
    "def attack(dc=10, advantage=False, sup=False, dmg_die=10, dmg_mod=0, dmg_dice=1):\n",
    "    dice_to_roll = 1\n",
    "    if advantage:\n",
    "        dice_to_roll = 2\n",
    "    if sup:\n",
    "        dice_to_roll = 3\n",
    "   \n",
    "    hit, critical, rolls = to_hit(dc, dice_to_roll)\n",
    "    if hit:\n",
    "        dmg = damage(crit=critical, sides=dmg_die, mod=dmg_mod, dice=dmg_dice)\n",
    "    else:\n",
    "        dmg = 0\n",
    "\n",
    "    roll_type = \"Normal\"\n",
    "    if advantage and not sup:\n",
    "        roll_type = \"Advantage\"\n",
    "    elif advantage and sup:\n",
    "        roll_type= \"Super\"\n",
    "\n",
    "    return {\"rolls\": rolls, \"hit\": hit, \"damage\": dmg, \"crit\": critical, \"advantage\": advantage, \"super_advantage\": sup, \"roll_type\": roll_type}\n"
   ]
  },
  {
   "cell_type": "markdown",
   "metadata": {},
   "source": [
    "#### Exploration"
   ]
  },
  {
   "cell_type": "markdown",
   "metadata": {},
   "source": [
    "##### 2024 Rules"
   ]
  },
  {
   "cell_type": "code",
   "execution_count": null,
   "metadata": {},
   "outputs": [],
   "source": [
    "# 2024 Normal Rolls\n",
    "new_norm = []\n",
    "for i in range(ROLLS_TO_MAKE):\n",
    "    new_norm.append(attack(10, False, False, 8, 7, 1))\n",
    "\n",
    "new_norm_df = pd.DataFrame(new_norm)\n",
    "print(f\"2024 Normal Rolls {new_norm_df.shape}\")\n",
    "print(f\"Damage per roll: {new_norm_df['damage'].mean()}\")\n",
    "print(new_norm_df.head())\n",
    "\n",
    "# 2024 Advantage Rolls\n",
    "new_adv = []\n",
    "for i in range(ROLLS_TO_MAKE):\n",
    "    new_adv.append(attack(10, True, False, 8, 7, 1))\n",
    "\n",
    "new_adv_df = pd.DataFrame(new_adv)\n",
    "print(f\"\\n2024 Advantage Rolls {new_adv_df.shape}\")\n",
    "print(f\"Damage per roll: {new_adv_df['damage'].mean()}\")\n",
    "print(new_adv_df.head())\n",
    "\n",
    "# 2024 Super Advantage Rolls\n",
    "new_sup = []\n",
    "for i in range(ROLLS_TO_MAKE):\n",
    "    new_sup.append(attack(10, True, True, 8, 7, 1))\n",
    "\n",
    "new_sup_df = pd.DataFrame(new_sup)\n",
    "print(f\"\\n2024 Super Advantage Rolls {new_sup_df.shape}\")\n",
    "print(f\"Damage per roll: {new_sup_df['damage'].mean()}\")\n",
    "print(new_sup_df.head())\n",
    "\n"
   ]
  },
  {
   "cell_type": "markdown",
   "metadata": {},
   "source": [
    "##### 2014 Rules"
   ]
  },
  {
   "cell_type": "code",
   "execution_count": null,
   "metadata": {},
   "outputs": [],
   "source": [
    "# 2014 Normal Rolls\n",
    "old_norm = []\n",
    "for i in range(ROLLS_TO_MAKE):\n",
    "    old_norm.append(attack(15, False, False, 8, 14, 1))\n",
    "\n",
    "old_norm_df = pd.DataFrame(old_norm)\n",
    "print(f\"2014 Normal Rolls {old_norm_df.shape}\")\n",
    "print(f\"Damage per roll: {old_norm_df['damage'].mean()}\")\n",
    "print(old_norm_df.head())\n",
    "\n",
    "# 2024 Advantage Rolls\n",
    "old_adv = []\n",
    "for i in range(ROLLS_TO_MAKE):\n",
    "    old_adv.append(attack(15, True, False, 8, 14, 1))\n",
    "\n",
    "old_adv_df = pd.DataFrame(old_adv)\n",
    "print(f\"\\n2014 Advantage Rolls {old_adv_df.shape}\")\n",
    "print(f\"Damage per roll: {old_adv_df['damage'].mean()}\")\n",
    "print(old_adv_df.head())\n",
    "\n",
    "# 2024 Super Advantage Rolls\n",
    "old_sup = []\n",
    "for i in range(ROLLS_TO_MAKE):\n",
    "    old_sup.append(attack(15, True, True, 8, 14, 1))\n",
    "\n",
    "old_sup_df = pd.DataFrame(old_sup)\n",
    "print(f\"\\n2014 Super Advantage Rolls {old_sup_df.shape}\")\n",
    "print(f\"Damage per roll: {old_sup_df['damage'].mean()}\")\n",
    "print(old_sup_df.head())"
   ]
  },
  {
   "cell_type": "markdown",
   "metadata": {},
   "source": [
    "#### Impressions"
   ]
  },
  {
   "cell_type": "code",
   "execution_count": null,
   "metadata": {},
   "outputs": [],
   "source": [
    "new_norm_hit_perc = new_norm_df[new_norm_df['hit']].size / new_norm_df.size * 100\n",
    "old_norm_hit_perc = old_norm_df[old_norm_df['hit']].size / old_norm_df.size * 100\n",
    "print(f\"2014 vs 2024 Normal Roll Hit : {old_norm_hit_perc:.2f}% => {new_norm_hit_perc:.2f}% \\\n",
    "for {old_norm_df['damage'].mean():.2f} => {new_norm_df['damage'].mean():.2f} damage.\")\n",
    "\n",
    "new_adv_hit_perc = new_adv_df[new_adv_df['hit']].size / new_adv_df.size * 100\n",
    "old_adv_hit_perc = old_adv_df[old_adv_df['hit']].size / old_adv_df.size * 100\n",
    "print(f\"2014 vs 2024 Advantage Roll Hit : {old_adv_hit_perc:.2f}% => {new_adv_hit_perc:.2f}% \\\n",
    "for {old_adv_df['damage'].mean():.2f} => {new_adv_df['damage'].mean():.2f} damage.\")\n",
    "\n",
    "new_sup_hit_perc = new_sup_df[new_sup_df['hit']].size / new_sup_df.size * 100\n",
    "old_sup_hit_perc = old_sup_df[old_norm_df['hit']].size / old_sup_df.size * 100\n",
    "print(f\"2014 vs 2024 Super Advantage Roll Hit : {old_sup_hit_perc:.2f}% => {new_sup_hit_perc:.2f}% \\\n",
    "for {old_sup_df['damage'].mean():.2f} => {new_sup_df['damage'].mean():.2f} damage.\")\n"
   ]
  },
  {
   "cell_type": "markdown",
   "metadata": {},
   "source": [
    "#### Analysis"
   ]
  },
  {
   "cell_type": "code",
   "execution_count": null,
   "metadata": {},
   "outputs": [],
   "source": [
    "# Get Consolidated Data Set\n",
    "old_frames = [old_norm_df, old_adv_df, old_sup_df]\n",
    "new_frames = [new_norm_df, new_adv_df, new_sup_df]\n",
    "\n",
    "old_df = pd.concat(old_frames)\n",
    "new_df = pd.concat(new_frames)\n",
    "\n",
    "old_df['rules'] = '2014'\n",
    "new_df['rules'] = '2024'\n",
    "\n",
    "all_df = pd.concat([old_df, new_df])\n",
    "sample_df = all_df.sample(10)\n",
    "sample_df.head(10)"
   ]
  },
  {
   "cell_type": "markdown",
   "metadata": {},
   "source": [
    "#### Viaualizations"
   ]
  },
  {
   "cell_type": "code",
   "execution_count": null,
   "metadata": {},
   "outputs": [],
   "source": [
    "# Drops some columns to clean up the DataFrame\n",
    "#all_df.drop(['advantage', 'super_advantage', 'rolls'], axis=1, inplace=True)\n",
    "#all_df.sample(10)"
   ]
  },
  {
   "cell_type": "code",
   "execution_count": null,
   "metadata": {},
   "outputs": [],
   "source": [
    "import seaborn as sns\n",
    "import matplotlib.pyplot as plt\n",
    "%matplotlib inline\n",
    "\n",
    "cat_1 = sns.catplot(data=all_df, x='rules', y='hit', hue='roll_type', kind='point')\n",
    "cat_2 = sns.catplot(data=all_df, x='rules', y='damage', hue='roll_type', kind='box')\n",
    "\n",
    "plt.show()"
   ]
  },
  {
   "cell_type": "code",
   "execution_count": null,
   "metadata": {},
   "outputs": [],
   "source": [
    "# Setup a couple of new DataFrames to sum the damage\n",
    "old_df = all_df[all_df['rules'] == '2014'].copy()\n",
    "old_df['cumulative'] = old_df['damage'].cumsum()\n",
    "old_df.head()\n",
    "\n",
    "new_df = all_df[all_df['rules'] == '2024'].copy()\n",
    "new_df['cumulative'] = new_df['damage'].cumsum()\n",
    "new_df.head()\n"
   ]
  },
  {
   "cell_type": "code",
   "execution_count": null,
   "metadata": {},
   "outputs": [],
   "source": [
    "old_norm_dmg = old_df[old_df['roll_type'] == 'Normal']['cumulative']\n",
    "old_adv_dmg = old_df[old_df['roll_type'] == 'Advantage']['cumulative']\n",
    "old_sup_dmg = old_df[old_df['roll_type'] == 'Super']['cumulative']\n",
    "\n",
    "new_norm_dmg = new_df[old_df['roll_type'] == 'Normal']['cumulative']\n",
    "new_adv_dmg = new_df[old_df['roll_type'] == 'Advantage']['cumulative']\n",
    "new_sup_dmg = new_df[old_df['roll_type'] == 'Super']['cumulative']\n",
    "\n",
    "plt.plot(old_norm_dmg, 'r')\n",
    "plt.plot(old_adv_dmg, 'b')\n",
    "plt.plot(old_sup_dmg, 'g')\n",
    "\n",
    "plt.plot(new_norm_dmg, 'm')\n",
    "plt.plot(new_adv_dmg, 'c')\n",
    "plt.plot(new_sup_dmg, 'y')\n",
    "\n",
    "plt.xlabel('Rolls')\n",
    "plt.ylabel('Cumulative Damage')\n",
    "plt.show()\n"
   ]
  },
  {
   "cell_type": "code",
   "execution_count": null,
   "metadata": {},
   "outputs": [],
   "source": [
    "from cProfile import label\n",
    "\n",
    "from matplotlib.pyplot import show\n",
    "\n",
    "\n",
    "fig_1 = plt.figure(figsize=(8,30), dpi=96)\n",
    "axes_1 = fig_1.add_axes([0.1, 0.1, 0.9,.09]) # Canvas needs a border so bring it in 10%\n",
    "axes_1.set_xlabel('Rolls')\n",
    "axes_1.set_ylabel('Damage')\n",
    "axes_1.set_title('2014 vs 2024 GWM DoT')\n",
    "axes_1.plot(old_norm_dmg, label='2014 Normal')\n",
    "axes_1.plot(old_adv_dmg, label='2014 Advantage')\n",
    "axes_1.plot(old_sup_dmg, label='2014 Super')\n",
    "\n",
    "\n",
    "axes_1.legend(loc=0)\n",
    "plt.show()"
   ]
  }
 ],
 "metadata": {
  "kernelspec": {
   "display_name": "base",
   "language": "python",
   "name": "python3"
  },
  "language_info": {
   "codemirror_mode": {
    "name": "ipython",
    "version": 3
   },
   "file_extension": ".py",
   "mimetype": "text/x-python",
   "name": "python",
   "nbconvert_exporter": "python",
   "pygments_lexer": "ipython3",
   "version": "3.12.4"
  }
 },
 "nbformat": 4,
 "nbformat_minor": 2
}
